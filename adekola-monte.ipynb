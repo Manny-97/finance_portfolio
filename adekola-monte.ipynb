{
 "cells": [
  {
   "cell_type": "markdown",
   "id": "48a5fb29",
   "metadata": {
    "papermill": {
     "duration": 0.023738,
     "end_time": "2021-12-30T09:26:46.465668",
     "exception": false,
     "start_time": "2021-12-30T09:26:46.441930",
     "status": "completed"
    },
    "tags": []
   },
   "source": [
    "___\n",
    "\n",
    "<a href='https://github.com/eliasmelul/'> <img src='https://s3.us-east-2.amazonaws.com/wordontheamazon.com/NoMargin_NewLogo.png' style='width: 15em;' align='right' /></a>\n",
    "# Finance with Python\n",
    "### Monte Carlo Simulations for Stock Price Predictions\n",
    "___\n",
    "<h4 align=\"right\">by Elias Melul, Data Scientist </h4> \n",
    "\n",
    "___\n",
    "\n",
    "\n",
    "\n",
    "In this notebook, we introduce how to use Monte Carlo simulations for forecasting future stock prices.\n",
    "\n",
    "$$\n",
    "{Price Today}={Price Yesterday * e^r}\n",
    "$$\n",
    "\n",
    "* We know yesterday's price. \n",
    "\n",
    "* We want to predict today's price. \n",
    "\n",
    "* What we do not know is the rate of return, r, of the share price between yesterday and today. \n",
    "\n",
    "This is where the Monte Carlo simulation comes in! But first, how do we compute the return?\n",
    "\n",
    "### Brownian Motion\n",
    "\n",
    "Brownian motion will be the main driver for estimating the return. It is a stochastic process used for modeling random behavior over time. For simplicity, we will use regular brownian motion, instead of the Geometric Brownian Motion, which is more common and less questionable in stock pricing applications.\n",
    "\n",
    "**Brownian Motion** has two main main components:\n",
    "1. Drift - the direction that rates of returns have had in the past. That is, the expected return of the stock.\n",
    "$$\n",
    "{Drift} = ({mean} - \\frac{1}{2} {Var})\n",
    "$$\n",
    "\n",
    "    Why do we multiply the variance by 0.5? Because historical values are eroded in the future.\n",
    "    \n",
    "\n",
    "2. Volatility -  random variable. This is the historical volatility multiplied by a random, standard normally distributed variable.\n",
    "\n",
    "$$\n",
    "{Volatility} = {Std.Dev. * Z([Rand(0;1)])}\n",
    "$$\n",
    "\n",
    "Therefore, our asset pricing equation ends up looking like this:\n",
    "\n",
    "$$\n",
    "{Price Today}={Price Yesterday * e^{mean-\\frac{1}{2}{Var} + Std.Dev * Z([Rand(0;1)])}}\n",
    "$$\n",
    "\n",
    "\n",
    "\n",
    "This technique will be used for every day into the future you want to predict, and for however many trials the monte carlo simulation will run!\n",
    "\n",
    "---\n",
    "\n",
    "First, import required libraries."
   ]
  },
  {
   "cell_type": "code",
   "execution_count": 1,
   "id": "fa27d470",
   "metadata": {
    "execution": {
     "iopub.execute_input": "2021-12-30T09:26:46.520309Z",
     "iopub.status.busy": "2021-12-30T09:26:46.519628Z",
     "iopub.status.idle": "2021-12-30T09:27:11.780157Z",
     "shell.execute_reply": "2021-12-30T09:27:11.779285Z",
     "shell.execute_reply.started": "2021-12-30T09:24:57.863123Z"
    },
    "papermill": {
     "duration": 25.292001,
     "end_time": "2021-12-30T09:27:11.780342",
     "exception": false,
     "start_time": "2021-12-30T09:26:46.488341",
     "status": "completed"
    },
    "tags": []
   },
   "outputs": [
    {
     "name": "stdout",
     "output_type": "stream",
     "text": [
      "Collecting yfinance\r\n",
      "  Downloading yfinance-0.1.67-py2.py3-none-any.whl (25 kB)\r\n",
      "Collecting multitasking>=0.0.7\r\n",
      "  Downloading multitasking-0.0.10.tar.gz (8.2 kB)\r\n",
      "  Preparing metadata (setup.py) ... \u001b[?25l-\b \bdone\r\n",
      "\u001b[?25hRequirement already satisfied: numpy>=1.15 in /opt/conda/lib/python3.7/site-packages (from yfinance) (1.19.5)\r\n",
      "Requirement already satisfied: pandas>=0.24 in /opt/conda/lib/python3.7/site-packages (from yfinance) (1.3.4)\r\n",
      "Requirement already satisfied: requests>=2.20 in /opt/conda/lib/python3.7/site-packages (from yfinance) (2.25.1)\r\n",
      "Requirement already satisfied: lxml>=4.5.1 in /opt/conda/lib/python3.7/site-packages (from yfinance) (4.6.4)\r\n",
      "Requirement already satisfied: python-dateutil>=2.7.3 in /opt/conda/lib/python3.7/site-packages (from pandas>=0.24->yfinance) (2.8.0)\r\n",
      "Requirement already satisfied: pytz>=2017.3 in /opt/conda/lib/python3.7/site-packages (from pandas>=0.24->yfinance) (2021.3)\r\n",
      "Requirement already satisfied: urllib3<1.27,>=1.21.1 in /opt/conda/lib/python3.7/site-packages (from requests>=2.20->yfinance) (1.26.7)\r\n",
      "Requirement already satisfied: chardet<5,>=3.0.2 in /opt/conda/lib/python3.7/site-packages (from requests>=2.20->yfinance) (4.0.0)\r\n",
      "Requirement already satisfied: idna<3,>=2.5 in /opt/conda/lib/python3.7/site-packages (from requests>=2.20->yfinance) (2.10)\r\n",
      "Requirement already satisfied: certifi>=2017.4.17 in /opt/conda/lib/python3.7/site-packages (from requests>=2.20->yfinance) (2021.10.8)\r\n",
      "Requirement already satisfied: six>=1.5 in /opt/conda/lib/python3.7/site-packages (from python-dateutil>=2.7.3->pandas>=0.24->yfinance) (1.16.0)\r\n",
      "Building wheels for collected packages: multitasking\r\n",
      "  Building wheel for multitasking (setup.py) ... \u001b[?25l-\b \b\\\b \bdone\r\n",
      "\u001b[?25h  Created wheel for multitasking: filename=multitasking-0.0.10-py3-none-any.whl size=8500 sha256=c30df7d902a1866e7024c623a49b821cbfe092d8470eaba12f5263446fd0910d\r\n",
      "  Stored in directory: /root/.cache/pip/wheels/34/ba/79/c0260c6f1a03f420ec7673eff9981778f293b9107974679e36\r\n",
      "Successfully built multitasking\r\n",
      "Installing collected packages: multitasking, yfinance\r\n",
      "Successfully installed multitasking-0.0.10 yfinance-0.1.67\r\n",
      "\u001b[33mWARNING: Running pip as the 'root' user can result in broken permissions and conflicting behaviour with the system package manager. It is recommended to use a virtual environment instead: https://pip.pypa.io/warnings/venv\u001b[0m\r\n",
      "Collecting fix_yahoo_finance\r\n",
      "  Downloading fix-yahoo-finance-0.1.37.tar.gz (6.3 kB)\r\n",
      "  Preparing metadata (setup.py) ... \u001b[?25l-\b \bdone\r\n",
      "\u001b[?25hRequirement already satisfied: yfinance in /opt/conda/lib/python3.7/site-packages (from fix_yahoo_finance) (0.1.67)\r\n",
      "Requirement already satisfied: pandas>=0.24 in /opt/conda/lib/python3.7/site-packages (from yfinance->fix_yahoo_finance) (1.3.4)\r\n",
      "Requirement already satisfied: requests>=2.20 in /opt/conda/lib/python3.7/site-packages (from yfinance->fix_yahoo_finance) (2.25.1)\r\n",
      "Requirement already satisfied: numpy>=1.15 in /opt/conda/lib/python3.7/site-packages (from yfinance->fix_yahoo_finance) (1.19.5)\r\n",
      "Requirement already satisfied: multitasking>=0.0.7 in /opt/conda/lib/python3.7/site-packages (from yfinance->fix_yahoo_finance) (0.0.10)\r\n",
      "Requirement already satisfied: lxml>=4.5.1 in /opt/conda/lib/python3.7/site-packages (from yfinance->fix_yahoo_finance) (4.6.4)\r\n",
      "Requirement already satisfied: python-dateutil>=2.7.3 in /opt/conda/lib/python3.7/site-packages (from pandas>=0.24->yfinance->fix_yahoo_finance) (2.8.0)\r\n",
      "Requirement already satisfied: pytz>=2017.3 in /opt/conda/lib/python3.7/site-packages (from pandas>=0.24->yfinance->fix_yahoo_finance) (2021.3)\r\n",
      "Requirement already satisfied: chardet<5,>=3.0.2 in /opt/conda/lib/python3.7/site-packages (from requests>=2.20->yfinance->fix_yahoo_finance) (4.0.0)\r\n",
      "Requirement already satisfied: urllib3<1.27,>=1.21.1 in /opt/conda/lib/python3.7/site-packages (from requests>=2.20->yfinance->fix_yahoo_finance) (1.26.7)\r\n",
      "Requirement already satisfied: idna<3,>=2.5 in /opt/conda/lib/python3.7/site-packages (from requests>=2.20->yfinance->fix_yahoo_finance) (2.10)\r\n",
      "Requirement already satisfied: certifi>=2017.4.17 in /opt/conda/lib/python3.7/site-packages (from requests>=2.20->yfinance->fix_yahoo_finance) (2021.10.8)\r\n",
      "Requirement already satisfied: six>=1.5 in /opt/conda/lib/python3.7/site-packages (from python-dateutil>=2.7.3->pandas>=0.24->yfinance->fix_yahoo_finance) (1.16.0)\r\n",
      "Building wheels for collected packages: fix-yahoo-finance\r\n",
      "  Building wheel for fix-yahoo-finance (setup.py) ... \u001b[?25l-\b \b\\\b \bdone\r\n",
      "\u001b[?25h  Created wheel for fix-yahoo-finance: filename=fix_yahoo_finance-0.1.37-py3-none-any.whl size=7073 sha256=11aca89ac0e122f7dd5e4d69aa50efdeda04ade3ece534fa899e5a92d1df4a8f\r\n",
      "  Stored in directory: /root/.cache/pip/wheels/1a/41/80/6cd5c10b88a3546cbe4cb412633ef2d12906510c403f723676\r\n",
      "Successfully built fix-yahoo-finance\r\n",
      "Installing collected packages: fix-yahoo-finance\r\n",
      "Successfully installed fix-yahoo-finance-0.1.37\r\n",
      "\u001b[33mWARNING: Running pip as the 'root' user can result in broken permissions and conflicting behaviour with the system package manager. It is recommended to use a virtual environment instead: https://pip.pypa.io/warnings/venv\u001b[0m\r\n"
     ]
    }
   ],
   "source": [
    "!pip install yfinance\n",
    "!pip install fix_yahoo_finance"
   ]
  },
  {
   "cell_type": "code",
   "execution_count": 2,
   "id": "60af7ae2",
   "metadata": {
    "execution": {
     "iopub.execute_input": "2021-12-30T09:27:11.850326Z",
     "iopub.status.busy": "2021-12-30T09:27:11.849624Z",
     "iopub.status.idle": "2021-12-30T09:27:12.999253Z",
     "shell.execute_reply": "2021-12-30T09:27:12.999892Z",
     "shell.execute_reply.started": "2021-12-30T09:25:12.066685Z"
    },
    "papermill": {
     "duration": 1.189916,
     "end_time": "2021-12-30T09:27:13.000135",
     "exception": false,
     "start_time": "2021-12-30T09:27:11.810219",
     "status": "completed"
    },
    "tags": []
   },
   "outputs": [
    {
     "name": "stderr",
     "output_type": "stream",
     "text": [
      "/opt/conda/lib/python3.7/site-packages/fix_yahoo_finance/__init__.py:0: DeprecationWarning: \n",
      "\n",
      "*** `fix_yahoo_finance` was renamed to `yfinance`. ***\n",
      "Please install and use `yfinance` directly using `pip install yfinance -U`\n",
      "\n",
      "More information: https://github.com/ranaroussi/yfinance\n",
      "\n"
     ]
    }
   ],
   "source": [
    "import numpy as np\n",
    "import pandas as pd\n",
    "from pandas_datareader import data as wb\n",
    "import matplotlib.pyplot as plt\n",
    "from scipy.stats import norm, gmean, cauchy\n",
    "import seaborn as sns\n",
    "from datetime import datetime\n",
    "import fix_yahoo_finance as yf\n",
    "\n",
    "#yf.wb_override()\n",
    "\n",
    "%matplotlib inline"
   ]
  },
  {
   "cell_type": "markdown",
   "id": "fef277a2",
   "metadata": {
    "papermill": {
     "duration": 0.030625,
     "end_time": "2021-12-30T09:27:13.061051",
     "exception": false,
     "start_time": "2021-12-30T09:27:13.030426",
     "status": "completed"
    },
    "tags": []
   },
   "source": [
    "Import data for one or multiple stocks from a specified date until the last available data. Data source: yahoo finance.\n",
    "\n",
    "For this, it's better if we define a function that imports stock(s) daily data for any publicly traded company as defined by the user starting at a user-defined date until today. We will use the Adjusted Close price."
   ]
  },
  {
   "cell_type": "code",
   "execution_count": 3,
   "id": "c418b281",
   "metadata": {
    "execution": {
     "iopub.execute_input": "2021-12-30T09:27:13.129758Z",
     "iopub.status.busy": "2021-12-30T09:27:13.128674Z",
     "iopub.status.idle": "2021-12-30T09:27:13.132030Z",
     "shell.execute_reply": "2021-12-30T09:27:13.131353Z",
     "shell.execute_reply.started": "2021-12-30T09:25:12.524340Z"
    },
    "papermill": {
     "duration": 0.04117,
     "end_time": "2021-12-30T09:27:13.132190",
     "exception": false,
     "start_time": "2021-12-30T09:27:13.091020",
     "status": "completed"
    },
    "tags": []
   },
   "outputs": [],
   "source": [
    "def import_stock_data(tickers, start = '2010-1-1', end = datetime.today().strftime('%Y-%m-%d')):\n",
    "    data = pd.DataFrame()\n",
    "    if len([tickers]) ==1:\n",
    "        data[tickers] = wb.DataReader(tickers, data_source='yahoo', start = start)['Adj Close']\n",
    "        data = pd.DataFrame(data)\n",
    "    else:\n",
    "        for t in tickers:\n",
    "            data[t] = wb.DataReader(t, data_source='yahoo', start = start)['Adj Close']\n",
    "    return(data)"
   ]
  },
  {
   "cell_type": "code",
   "execution_count": 4,
   "id": "2e294718",
   "metadata": {
    "execution": {
     "iopub.execute_input": "2021-12-30T09:27:13.208137Z",
     "iopub.status.busy": "2021-12-30T09:27:13.207418Z",
     "iopub.status.idle": "2021-12-30T09:27:14.664641Z",
     "shell.execute_reply": "2021-12-30T09:27:14.665186Z",
     "shell.execute_reply.started": "2021-12-30T09:25:12.534096Z"
    },
    "papermill": {
     "duration": 1.500663,
     "end_time": "2021-12-30T09:27:14.665422",
     "exception": false,
     "start_time": "2021-12-30T09:27:13.164759",
     "status": "completed"
    },
    "tags": []
   },
   "outputs": [],
   "source": [
    "data = import_stock_data(['PG'])"
   ]
  },
  {
   "cell_type": "markdown",
   "id": "51cd78a9",
   "metadata": {
    "papermill": {
     "duration": 0.029807,
     "end_time": "2021-12-30T09:27:14.725421",
     "exception": false,
     "start_time": "2021-12-30T09:27:14.695614",
     "status": "completed"
    },
    "tags": []
   },
   "source": [
    "Then, we compute the logarithmic returns of the data."
   ]
  },
  {
   "cell_type": "code",
   "execution_count": 5,
   "id": "e954c42a",
   "metadata": {
    "execution": {
     "iopub.execute_input": "2021-12-30T09:27:14.791478Z",
     "iopub.status.busy": "2021-12-30T09:27:14.790379Z",
     "iopub.status.idle": "2021-12-30T09:27:14.793367Z",
     "shell.execute_reply": "2021-12-30T09:27:14.792769Z",
     "shell.execute_reply.started": "2021-12-30T09:25:14.671332Z"
    },
    "papermill": {
     "duration": 0.038107,
     "end_time": "2021-12-30T09:27:14.793524",
     "exception": false,
     "start_time": "2021-12-30T09:27:14.755417",
     "status": "completed"
    },
    "tags": []
   },
   "outputs": [],
   "source": [
    "def log_returns(data):\n",
    "    return (np.log(1+data.pct_change()))"
   ]
  },
  {
   "cell_type": "code",
   "execution_count": 6,
   "id": "3497b20a",
   "metadata": {
    "execution": {
     "iopub.execute_input": "2021-12-30T09:27:14.857334Z",
     "iopub.status.busy": "2021-12-30T09:27:14.856586Z",
     "iopub.status.idle": "2021-12-30T09:27:14.865489Z",
     "shell.execute_reply": "2021-12-30T09:27:14.864831Z",
     "shell.execute_reply.started": "2021-12-30T09:25:14.679019Z"
    },
    "papermill": {
     "duration": 0.042253,
     "end_time": "2021-12-30T09:27:14.865672",
     "exception": false,
     "start_time": "2021-12-30T09:27:14.823419",
     "status": "completed"
    },
    "tags": []
   },
   "outputs": [],
   "source": [
    "log_return = log_returns(data)"
   ]
  },
  {
   "cell_type": "markdown",
   "id": "8ec18b38",
   "metadata": {
    "papermill": {
     "duration": 0.029872,
     "end_time": "2021-12-30T09:27:14.925529",
     "exception": false,
     "start_time": "2021-12-30T09:27:14.895657",
     "status": "completed"
    },
    "tags": []
   },
   "source": [
    "We also create a function to compute the simple returns."
   ]
  },
  {
   "cell_type": "code",
   "execution_count": 7,
   "id": "ff34b31f",
   "metadata": {
    "execution": {
     "iopub.execute_input": "2021-12-30T09:27:14.993737Z",
     "iopub.status.busy": "2021-12-30T09:27:14.992660Z",
     "iopub.status.idle": "2021-12-30T09:27:14.995427Z",
     "shell.execute_reply": "2021-12-30T09:27:14.994864Z",
     "shell.execute_reply.started": "2021-12-30T09:25:14.702064Z"
    },
    "papermill": {
     "duration": 0.039939,
     "end_time": "2021-12-30T09:27:14.995607",
     "exception": false,
     "start_time": "2021-12-30T09:27:14.955668",
     "status": "completed"
    },
    "tags": []
   },
   "outputs": [],
   "source": [
    "def simple_returns(data):\n",
    "    return ((data/data.shift(1))-1)"
   ]
  },
  {
   "cell_type": "markdown",
   "id": "29f0fce3",
   "metadata": {
    "papermill": {
     "duration": 0.030385,
     "end_time": "2021-12-30T09:27:15.055948",
     "exception": false,
     "start_time": "2021-12-30T09:27:15.025563",
     "status": "completed"
    },
    "tags": []
   },
   "source": [
    "## CAPM and Sharpe\n",
    "\n",
    "Before we jump into Monte Carlo Simulations, we would like to report some statistics with it, including the Beta and Sharpe Ratio of the stock, compared to the _market portfolio_. To understand these metrics, we first must understand the underlying concepts of the _Capital Asset Pricing Model,_ starting with the _market portfolio_.\n",
    "\n",
    "* The market portfolio is the theoretical combination of all possible investments in the world. However, there is no such thing as a market portfolio. We approximate it with a stock market index. In our case, we use the S&P500, but you can specify any index you want to!\n",
    "\n",
    "* We also note that there is no such thing as a risk-free asset. We will use a 10-year US government bond yield of 2.5% instead.\n",
    "\n",
    "* The equity premium is the difference between the expected return of the market and the risk-free asset. This value is typically between 4.5 and 5.5%. We can use 5%.\n",
    "\n",
    "We use the _market portfolio_ to compute the Beta, the CAPM expected return, and the Sharpe Ratio of a stock.\n",
    "1. **Beta**: measures the market risk that cannot be avoided through diversification. This is the relationship between the stock and the market portfolio. In other words, it is a measure of how much risk the investment will add to a portfolio that looks like the market.\n",
    "##### $$ \n",
    "\\beta_{i} = \\frac{\\sigma_{i,m}}{\\sigma_{m}^2}\n",
    "$$\n",
    "\n",
    "        When beta = 0, it means that there's no relationship.\n",
    "    \n",
    "        When beta < 1, it means that the stock is defensive (less prone to high highs and low lows)\n",
    "    \n",
    "        When beta > 1, it means that the stock is aggresive (more prone to high highs and low lows)\n",
    "    \n",
    "    \n",
    "2. **Expected Return CAPM**: calculates the expected return of a security adjusted to the risk taken. This equates to the return expected from taking the extra risk of purchasing this security.\n",
    "##### $$\n",
    "\\overline{r_{i}} = r_f + \\beta_{i}(\\overline{r_{m}} - r_f) \n",
    "$$\n",
    "\n",
    "3. **Sharpe Ratio**: measures the performance of a security compared to a risk-free asset, after adjusting for its risk. This is the excess return per unit of risk of an investment.\n",
    "##### $$\n",
    "Sharpe = \\frac{\\overline{r_{i}} - r_f}{\\sigma_{i}}\n",
    "$$\n",
    "        When Sharpe > 1, GOOD risk-adjusted returns\n",
    "    \n",
    "        When Sharpe > 2, VERY GOOD risk-adjusted returns\n",
    "    \n",
    "        When Sharpe > 3, EXCELLENT risk-adjusted returns\n",
    "    "
   ]
  },
  {
   "cell_type": "code",
   "execution_count": 8,
   "id": "5008ab29",
   "metadata": {
    "execution": {
     "iopub.execute_input": "2021-12-30T09:27:15.123175Z",
     "iopub.status.busy": "2021-12-30T09:27:15.122464Z",
     "iopub.status.idle": "2021-12-30T09:27:15.125083Z",
     "shell.execute_reply": "2021-12-30T09:27:15.124427Z",
     "shell.execute_reply.started": "2021-12-30T09:25:14.716750Z"
    },
    "papermill": {
     "duration": 0.039178,
     "end_time": "2021-12-30T09:27:15.125235",
     "exception": false,
     "start_time": "2021-12-30T09:27:15.086057",
     "status": "completed"
    },
    "tags": []
   },
   "outputs": [],
   "source": [
    "def market_data_combination(data, mark_ticker = \"^GSPC\", start='2010-1-1'):\n",
    "    market_data = import_stock_data(mark_ticker, start)\n",
    "    market_rets = log_returns(market_data).dropna()\n",
    "    ann_return = np.exp(market_rets.mean()*252).values-1\n",
    "    data = data.merge(market_data, left_index=True, right_index=True)\n",
    "    return data, ann_return"
   ]
  },
  {
   "cell_type": "code",
   "execution_count": 9,
   "id": "25b65e25",
   "metadata": {
    "execution": {
     "iopub.execute_input": "2021-12-30T09:27:15.198773Z",
     "iopub.status.busy": "2021-12-30T09:27:15.198060Z",
     "iopub.status.idle": "2021-12-30T09:27:15.199697Z",
     "shell.execute_reply": "2021-12-30T09:27:15.200346Z",
     "shell.execute_reply.started": "2021-12-30T09:25:14.730357Z"
    },
    "papermill": {
     "duration": 0.043816,
     "end_time": "2021-12-30T09:27:15.200547",
     "exception": false,
     "start_time": "2021-12-30T09:27:15.156731",
     "status": "completed"
    },
    "tags": []
   },
   "outputs": [],
   "source": [
    "def beta_sharpe(data, mark_ticker = \"^GSPC\", start='2010-1-1', riskfree = 0.025):\n",
    "    \n",
    "    \"\"\"\n",
    "    Input: \n",
    "    1. data: dataframe of stock price data\n",
    "    2. mark_ticker: ticker of the market data you want to compute CAPM metrics with (default is ^GSPC)\n",
    "    3. start: data from which to download data (default Jan 1st 2010)\n",
    "    4. riskfree: the assumed risk free yield (US 10 Year Bond is assumed: 2.5%)\n",
    "    \n",
    "    Output:\n",
    "    1. Dataframe with CAPM metrics computed against specified market procy\n",
    "    \"\"\"\n",
    "    # Beta\n",
    "    dd, mark_ret = market_data_combination(data, mark_ticker, start)\n",
    "    log_ret = log_returns(dd)\n",
    "    covar = log_ret.cov()*252\n",
    "    covar = pd.DataFrame(covar.iloc[:-1,-1])\n",
    "    mrk_var = log_ret.iloc[:,-1].var()*252\n",
    "    beta = covar/mrk_var\n",
    "    \n",
    "    stdev_ret = pd.DataFrame(((log_ret.std()*250**0.5)[:-1]), columns=['STD'])\n",
    "    beta = beta.merge(stdev_ret, left_index=True, right_index=True)\n",
    "    \n",
    "    # CAPM\n",
    "    for i, row in beta.iterrows():\n",
    "        beta.at[i,'CAPM'] = riskfree + (row[mark_ticker] * (mark_ret-riskfree))\n",
    "    # Sharpe\n",
    "    for i, row in beta.iterrows():\n",
    "        beta.at[i,'Sharpe'] = ((row['CAPM']-riskfree)/(row['STD']))\n",
    "    beta.rename(columns={\"^GSPC\":\"Beta\"}, inplace=True)\n",
    "    \n",
    "    return beta"
   ]
  },
  {
   "cell_type": "code",
   "execution_count": 10,
   "id": "24f9db9e",
   "metadata": {
    "execution": {
     "iopub.execute_input": "2021-12-30T09:27:15.269269Z",
     "iopub.status.busy": "2021-12-30T09:27:15.263577Z",
     "iopub.status.idle": "2021-12-30T09:27:16.528969Z",
     "shell.execute_reply": "2021-12-30T09:27:16.529499Z",
     "shell.execute_reply.started": "2021-12-30T09:25:14.745960Z"
    },
    "papermill": {
     "duration": 1.298781,
     "end_time": "2021-12-30T09:27:16.529714",
     "exception": false,
     "start_time": "2021-12-30T09:27:15.230933",
     "status": "completed"
    },
    "tags": []
   },
   "outputs": [
    {
     "data": {
      "text/html": [
       "<div>\n",
       "<style scoped>\n",
       "    .dataframe tbody tr th:only-of-type {\n",
       "        vertical-align: middle;\n",
       "    }\n",
       "\n",
       "    .dataframe tbody tr th {\n",
       "        vertical-align: top;\n",
       "    }\n",
       "\n",
       "    .dataframe thead th {\n",
       "        text-align: right;\n",
       "    }\n",
       "</style>\n",
       "<table border=\"1\" class=\"dataframe\">\n",
       "  <thead>\n",
       "    <tr style=\"text-align: right;\">\n",
       "      <th></th>\n",
       "      <th>Beta</th>\n",
       "      <th>STD</th>\n",
       "      <th>CAPM</th>\n",
       "      <th>Sharpe</th>\n",
       "    </tr>\n",
       "  </thead>\n",
       "  <tbody>\n",
       "    <tr>\n",
       "      <th>PG</th>\n",
       "      <td>0.572472</td>\n",
       "      <td>0.168791</td>\n",
       "      <td>0.083955</td>\n",
       "      <td>0.34928</td>\n",
       "    </tr>\n",
       "  </tbody>\n",
       "</table>\n",
       "</div>"
      ],
      "text/plain": [
       "        Beta       STD      CAPM   Sharpe\n",
       "PG  0.572472  0.168791  0.083955  0.34928"
      ]
     },
     "execution_count": 10,
     "metadata": {},
     "output_type": "execute_result"
    }
   ],
   "source": [
    "beta_sharpe(data)"
   ]
  },
  {
   "cell_type": "markdown",
   "id": "b3e767ae",
   "metadata": {
    "papermill": {
     "duration": 0.029703,
     "end_time": "2021-12-30T09:27:16.589563",
     "exception": false,
     "start_time": "2021-12-30T09:27:16.559860",
     "status": "completed"
    },
    "tags": []
   },
   "source": [
    "**Brownian Motion**\n",
    "\n",
    "Now that we have our returns, we can compute the brownian motion, as explained in the introduction.\n",
    "1. Calculate the drift\n",
    "2. Calculate the variance\n",
    "3. Calculate the daily returns based on the drift and variance"
   ]
  },
  {
   "cell_type": "code",
   "execution_count": 11,
   "id": "1129e855",
   "metadata": {
    "execution": {
     "iopub.execute_input": "2021-12-30T09:27:16.654921Z",
     "iopub.status.busy": "2021-12-30T09:27:16.654265Z",
     "iopub.status.idle": "2021-12-30T09:27:16.659795Z",
     "shell.execute_reply": "2021-12-30T09:27:16.660427Z",
     "shell.execute_reply.started": "2021-12-30T09:25:16.871576Z"
    },
    "papermill": {
     "duration": 0.039359,
     "end_time": "2021-12-30T09:27:16.660606",
     "exception": false,
     "start_time": "2021-12-30T09:27:16.621247",
     "status": "completed"
    },
    "tags": []
   },
   "outputs": [],
   "source": [
    "def drift_calc(data, return_type='log'):\n",
    "    if return_type=='log':\n",
    "        lr = log_returns(data)\n",
    "    elif return_type=='simple':\n",
    "        lr = simple_returns(data)\n",
    "    u = lr.mean()\n",
    "    var = lr.var()\n",
    "    drift = u-(0.5*var)\n",
    "    try:\n",
    "        return drift.values\n",
    "    except:\n",
    "        return drift"
   ]
  },
  {
   "cell_type": "code",
   "execution_count": 12,
   "id": "e8fcdf5d",
   "metadata": {
    "execution": {
     "iopub.execute_input": "2021-12-30T09:27:16.724612Z",
     "iopub.status.busy": "2021-12-30T09:27:16.723902Z",
     "iopub.status.idle": "2021-12-30T09:27:16.731612Z",
     "shell.execute_reply": "2021-12-30T09:27:16.732166Z",
     "shell.execute_reply.started": "2021-12-30T09:25:16.881360Z"
    },
    "papermill": {
     "duration": 0.0415,
     "end_time": "2021-12-30T09:27:16.732343",
     "exception": false,
     "start_time": "2021-12-30T09:27:16.690843",
     "status": "completed"
    },
    "tags": []
   },
   "outputs": [
    {
     "data": {
      "text/plain": [
       "array([0.00039109])"
      ]
     },
     "execution_count": 12,
     "metadata": {},
     "output_type": "execute_result"
    }
   ],
   "source": [
    "drift_calc(data)"
   ]
  },
  {
   "cell_type": "markdown",
   "id": "aa32ff12",
   "metadata": {
    "papermill": {
     "duration": 0.030488,
     "end_time": "2021-12-30T09:27:16.794061",
     "exception": false,
     "start_time": "2021-12-30T09:27:16.763573",
     "status": "completed"
    },
    "tags": []
   },
   "source": [
    "We calculated the drift above, but now, we must calculate the daily returns for the data. There are things to consider:\n",
    "1. How many days into the future will we predict? (How many rows)\n",
    "2. How many iterations of these predictions will we compute? (How many columns)\n",
    "\n",
    "This generates the daily returns (not prices!) for each day into the future for each iteration (simulation) based on a normal distribution."
   ]
  },
  {
   "cell_type": "code",
   "execution_count": 13,
   "id": "49c56fe2",
   "metadata": {
    "execution": {
     "iopub.execute_input": "2021-12-30T09:27:16.859867Z",
     "iopub.status.busy": "2021-12-30T09:27:16.858907Z",
     "iopub.status.idle": "2021-12-30T09:27:16.865876Z",
     "shell.execute_reply": "2021-12-30T09:27:16.866466Z",
     "shell.execute_reply.started": "2021-12-30T09:25:16.917852Z"
    },
    "papermill": {
     "duration": 0.041761,
     "end_time": "2021-12-30T09:27:16.866636",
     "exception": false,
     "start_time": "2021-12-30T09:27:16.824875",
     "status": "completed"
    },
    "tags": []
   },
   "outputs": [],
   "source": [
    "def daily_returns(data, days, iterations, return_type='log'):\n",
    "    ft = drift_calc(data, return_type)\n",
    "    if return_type == 'log':\n",
    "        try:\n",
    "            stv = log_returns(data).std().values\n",
    "        except:\n",
    "            stv = log_returns(data).std()\n",
    "    elif return_type=='simple':\n",
    "        try:\n",
    "            stv = simple_returns(data).std().values\n",
    "        except:\n",
    "            stv = simple_returns(data).std()    \n",
    "    #Oftentimes, we find that the distribution of returns is a variation of the normal distribution where it has a fat tail\n",
    "    # This distribution is called cauchy distribution\n",
    "    dr = np.exp(ft + stv * norm.ppf(np.random.rand(days, iterations)))\n",
    "    return dr"
   ]
  },
  {
   "cell_type": "code",
   "execution_count": 14,
   "id": "814a2f4e",
   "metadata": {
    "execution": {
     "iopub.execute_input": "2021-12-30T09:27:16.936074Z",
     "iopub.status.busy": "2021-12-30T09:27:16.934997Z",
     "iopub.status.idle": "2021-12-30T09:27:16.941896Z",
     "shell.execute_reply": "2021-12-30T09:27:16.942480Z",
     "shell.execute_reply.started": "2021-12-30T09:25:16.928687Z"
    },
    "papermill": {
     "duration": 0.045051,
     "end_time": "2021-12-30T09:27:16.942669",
     "exception": false,
     "start_time": "2021-12-30T09:27:16.897618",
     "status": "completed"
    },
    "tags": []
   },
   "outputs": [],
   "source": [
    "dr = daily_returns(data, 2, 3)"
   ]
  },
  {
   "cell_type": "markdown",
   "id": "300083f6",
   "metadata": {
    "papermill": {
     "duration": 0.03025,
     "end_time": "2021-12-30T09:27:17.003171",
     "exception": false,
     "start_time": "2021-12-30T09:27:16.972921",
     "status": "completed"
    },
    "tags": []
   },
   "source": [
    "**Note**: This next function is used to calculate the probability of a stock having a higher price or higher returns than specified over the period defined. "
   ]
  },
  {
   "cell_type": "code",
   "execution_count": 15,
   "id": "0458c2fe",
   "metadata": {
    "execution": {
     "iopub.execute_input": "2021-12-30T09:27:17.068444Z",
     "iopub.status.busy": "2021-12-30T09:27:17.067466Z",
     "iopub.status.idle": "2021-12-30T09:27:17.076536Z",
     "shell.execute_reply": "2021-12-30T09:27:17.077098Z",
     "shell.execute_reply.started": "2021-12-30T09:25:16.951021Z"
    },
    "papermill": {
     "duration": 0.042867,
     "end_time": "2021-12-30T09:27:17.077266",
     "exception": false,
     "start_time": "2021-12-30T09:27:17.034399",
     "status": "completed"
    },
    "tags": []
   },
   "outputs": [],
   "source": [
    "def probs_find(predicted, higherthan, on = 'value'):\n",
    "    \"\"\"\n",
    "    This function calculated the probability of a stock being above a certain threshhold, which can be defined as a value (final stock price) or return rate (percentage change)\n",
    "    Input: \n",
    "    1. predicted: dataframe with all the predicted prices (days and simulations)\n",
    "    2. higherthan: specified threshhold to which compute the probability (ex. 0 on return will compute the probability of at least breakeven)\n",
    "    3. on: 'return' or 'value', the return of the stock or the final value of stock for every simulation over the time specified\n",
    "    \"\"\"\n",
    "    if on == 'return':\n",
    "        predicted0 = predicted.iloc[0,0]\n",
    "        predicted = predicted.iloc[-1]\n",
    "        predList = list(predicted)\n",
    "        over = [(i*100)/predicted0 for i in predList if ((i-predicted0)*100)/predicted0 >= higherthan]\n",
    "        less = [(i*100)/predicted0 for i in predList if ((i-predicted0)*100)/predicted0 < higherthan]\n",
    "    elif on == 'value':\n",
    "        predicted = predicted.iloc[-1]\n",
    "        predList = list(predicted)\n",
    "        over = [i for i in predList if i >= higherthan]\n",
    "        less = [i for i in predList if i < higherthan]\n",
    "    else:\n",
    "        print(\"'on' must be either value or return\")\n",
    "    return (len(over)/(len(over)+len(less)))"
   ]
  },
  {
   "cell_type": "markdown",
   "id": "74e74de1",
   "metadata": {
    "papermill": {
     "duration": 0.030094,
     "end_time": "2021-12-30T09:27:17.137456",
     "exception": false,
     "start_time": "2021-12-30T09:27:17.107362",
     "status": "completed"
    },
    "tags": []
   },
   "source": [
    "Example: We would like to find out the probability that our investment in PG will breakeven or make a profit over the course of a year (financial year is about 252 days). There are two ways we can do this:\n",
    "1. Returns = 0\n",
    "2. Final stock price = initial stock price ($44.05 - Jan 1st 2010, the first data point)\n",
    "\n",
    "So, with the simulation predicted values, we will predict said probabilities.\n",
    "\n",
    "---\n",
    "\n",
    "First, however, we must run the simulation! How does it work?\n",
    "\n",
    "1. Calculate the daily returns for every day and every iteration (simulation) of the data. \n",
    "2. Creates an equally large matrix of size [days x iteration] full of zeroes.\n",
    "3. Input the last stock price value in the first row (day 0) of the \"empty\" matrix (part 2). This is our starting point.\n",
    "4. Calculate \"today's price\" based on yesterday's multiplied by the daily return generated. That is, multiply the daily return generated for every simulation with the stock price calculated for the previous day (the previous row) for every simulation.\n",
    "\n",
    "Does that sounds familiar? The fourth step multiplies the daily returns with the price of the stock of the previous day!"
   ]
  },
  {
   "cell_type": "code",
   "execution_count": 16,
   "id": "ca153df5",
   "metadata": {
    "execution": {
     "iopub.execute_input": "2021-12-30T09:27:17.204441Z",
     "iopub.status.busy": "2021-12-30T09:27:17.203737Z",
     "iopub.status.idle": "2021-12-30T09:27:17.214691Z",
     "shell.execute_reply": "2021-12-30T09:27:17.215259Z",
     "shell.execute_reply.started": "2021-12-30T09:25:16.965893Z"
    },
    "papermill": {
     "duration": 0.045578,
     "end_time": "2021-12-30T09:27:17.215439",
     "exception": false,
     "start_time": "2021-12-30T09:27:17.169861",
     "status": "completed"
    },
    "tags": []
   },
   "outputs": [],
   "source": [
    "def simulate_mc(data, days, iterations, return_type='log', plot=True):\n",
    "    # Generate daily returns\n",
    "    returns = daily_returns(data, days, iterations, return_type)\n",
    "    # Create empty matrix\n",
    "    price_list = np.zeros_like(returns)\n",
    "    # Put the last actual price in the first row of matrix. \n",
    "    price_list[0] = data.iloc[-1]\n",
    "    # Calculate the price of each day\n",
    "    for t in range(1,days):\n",
    "        price_list[t] = price_list[t-1]*returns[t]\n",
    "    \n",
    "    # Plot Option\n",
    "    if plot == True:\n",
    "        x = pd.DataFrame(price_list).iloc[-1]\n",
    "        fig, ax = plt.subplots(1,2, figsize=(14,4))\n",
    "        sns.distplot(x, ax=ax[0])\n",
    "        sns.distplot(x, hist_kws={'cumulative':True},kde_kws={'cumulative':True},ax=ax[1])\n",
    "        plt.xlabel(\"Stock Price\")\n",
    "        plt.show()\n",
    "    \n",
    "    #CAPM and Sharpe Ratio\n",
    "    \n",
    "    # Printing information about stock\n",
    "    try:\n",
    "        [print(nam) for nam in data.columns]\n",
    "    except:\n",
    "        print(data.name)\n",
    "    print(f\"Days: {days-1}\")\n",
    "    print(f\"Expected Value: #{round(pd.DataFrame(price_list).iloc[-1].mean(),2)}\")\n",
    "    print(f\"Return: {round(100*(pd.DataFrame(price_list).iloc[-1].mean()-price_list[0,1])/pd.DataFrame(price_list).iloc[-1].mean(),2)}%\")\n",
    "    print(f\"Probability of Breakeven: {probs_find(pd.DataFrame(price_list),0, on='return')}\")\n",
    "   \n",
    "          \n",
    "    return pd.DataFrame(price_list)"
   ]
  },
  {
   "cell_type": "code",
   "execution_count": 17,
   "id": "53e35783",
   "metadata": {
    "execution": {
     "iopub.execute_input": "2021-12-30T09:27:17.280083Z",
     "iopub.status.busy": "2021-12-30T09:27:17.279132Z",
     "iopub.status.idle": "2021-12-30T09:27:17.892260Z",
     "shell.execute_reply": "2021-12-30T09:27:17.892764Z",
     "shell.execute_reply.started": "2021-12-30T09:25:16.984035Z"
    },
    "papermill": {
     "duration": 0.647283,
     "end_time": "2021-12-30T09:27:17.892937",
     "exception": false,
     "start_time": "2021-12-30T09:27:17.245654",
     "status": "completed"
    },
    "tags": []
   },
   "outputs": [
    {
     "name": "stderr",
     "output_type": "stream",
     "text": [
      "/opt/conda/lib/python3.7/site-packages/seaborn/distributions.py:2619: FutureWarning: `distplot` is a deprecated function and will be removed in a future version. Please adapt your code to use either `displot` (a figure-level function with similar flexibility) or `histplot` (an axes-level function for histograms).\n",
      "  warnings.warn(msg, FutureWarning)\n",
      "/opt/conda/lib/python3.7/site-packages/seaborn/distributions.py:2619: FutureWarning: `distplot` is a deprecated function and will be removed in a future version. Please adapt your code to use either `displot` (a figure-level function with similar flexibility) or `histplot` (an axes-level function for histograms).\n",
      "  warnings.warn(msg, FutureWarning)\n"
     ]
    },
    {
     "data": {
      "image/png": "[encoded data removed]",
      "text/plain": [
       "<Figure size 1008x288 with 2 Axes>"
      ]
     },
     "metadata": {
      "needs_background": "light"
     },
     "output_type": "display_data"
    },
    {
     "name": "stdout",
     "output_type": "stream",
     "text": [
      "PG\n",
      "Days: 251\n",
      "Expected Value: #183.11\n",
      "Return: 10.33%\n",
      "Probability of Breakeven: 0.712\n"
     ]
    },
    {
     "data": {
      "text/html": [
       "<div>\n",
       "<style scoped>\n",
       "    .dataframe tbody tr th:only-of-type {\n",
       "        vertical-align: middle;\n",
       "    }\n",
       "\n",
       "    .dataframe tbody tr th {\n",
       "        vertical-align: top;\n",
       "    }\n",
       "\n",
       "    .dataframe thead th {\n",
       "        text-align: right;\n",
       "    }\n",
       "</style>\n",
       "<table border=\"1\" class=\"dataframe\">\n",
       "  <thead>\n",
       "    <tr style=\"text-align: right;\">\n",
       "      <th></th>\n",
       "      <th>0</th>\n",
       "      <th>1</th>\n",
       "      <th>2</th>\n",
       "      <th>3</th>\n",
       "      <th>4</th>\n",
       "      <th>5</th>\n",
       "      <th>6</th>\n",
       "      <th>7</th>\n",
       "      <th>8</th>\n",
       "      <th>9</th>\n",
       "      <th>...</th>\n",
       "      <th>990</th>\n",
       "      <th>991</th>\n",
       "      <th>992</th>\n",
       "      <th>993</th>\n",
       "      <th>994</th>\n",
       "      <th>995</th>\n",
       "      <th>996</th>\n",
       "      <th>997</th>\n",
       "      <th>998</th>\n",
       "      <th>999</th>\n",
       "    </tr>\n",
       "  </thead>\n",
       "  <tbody>\n",
       "    <tr>\n",
       "      <th>0</th>\n",
       "      <td>164.190002</td>\n",
       "      <td>164.190002</td>\n",
       "      <td>164.190002</td>\n",
       "      <td>164.190002</td>\n",
       "      <td>164.190002</td>\n",
       "      <td>164.190002</td>\n",
       "      <td>164.190002</td>\n",
       "      <td>164.190002</td>\n",
       "      <td>164.190002</td>\n",
       "      <td>164.190002</td>\n",
       "      <td>...</td>\n",
       "      <td>164.190002</td>\n",
       "      <td>164.190002</td>\n",
       "      <td>164.190002</td>\n",
       "      <td>164.190002</td>\n",
       "      <td>164.190002</td>\n",
       "      <td>164.190002</td>\n",
       "      <td>164.190002</td>\n",
       "      <td>164.190002</td>\n",
       "      <td>164.190002</td>\n",
       "      <td>164.190002</td>\n",
       "    </tr>\n",
       "    <tr>\n",
       "      <th>1</th>\n",
       "      <td>161.956805</td>\n",
       "      <td>162.759752</td>\n",
       "      <td>162.436103</td>\n",
       "      <td>164.830419</td>\n",
       "      <td>164.224541</td>\n",
       "      <td>164.031168</td>\n",
       "      <td>162.603762</td>\n",
       "      <td>161.991491</td>\n",
       "      <td>165.452929</td>\n",
       "      <td>167.380444</td>\n",
       "      <td>...</td>\n",
       "      <td>166.120715</td>\n",
       "      <td>164.502918</td>\n",
       "      <td>163.671319</td>\n",
       "      <td>165.623746</td>\n",
       "      <td>165.180832</td>\n",
       "      <td>164.587572</td>\n",
       "      <td>166.131412</td>\n",
       "      <td>163.099334</td>\n",
       "      <td>165.314533</td>\n",
       "      <td>163.182924</td>\n",
       "    </tr>\n",
       "    <tr>\n",
       "      <th>2</th>\n",
       "      <td>162.344877</td>\n",
       "      <td>164.982271</td>\n",
       "      <td>163.717263</td>\n",
       "      <td>165.769467</td>\n",
       "      <td>163.415510</td>\n",
       "      <td>164.002291</td>\n",
       "      <td>165.067562</td>\n",
       "      <td>161.515006</td>\n",
       "      <td>167.005576</td>\n",
       "      <td>166.128184</td>\n",
       "      <td>...</td>\n",
       "      <td>161.531065</td>\n",
       "      <td>168.185286</td>\n",
       "      <td>160.847941</td>\n",
       "      <td>167.231460</td>\n",
       "      <td>165.940677</td>\n",
       "      <td>162.638122</td>\n",
       "      <td>165.290541</td>\n",
       "      <td>165.321580</td>\n",
       "      <td>167.960625</td>\n",
       "      <td>162.025240</td>\n",
       "    </tr>\n",
       "    <tr>\n",
       "      <th>3</th>\n",
       "      <td>161.428535</td>\n",
       "      <td>165.823205</td>\n",
       "      <td>164.823640</td>\n",
       "      <td>164.566719</td>\n",
       "      <td>163.513732</td>\n",
       "      <td>163.506747</td>\n",
       "      <td>165.594247</td>\n",
       "      <td>161.821480</td>\n",
       "      <td>167.121362</td>\n",
       "      <td>166.757089</td>\n",
       "      <td>...</td>\n",
       "      <td>163.695327</td>\n",
       "      <td>167.839915</td>\n",
       "      <td>162.782584</td>\n",
       "      <td>168.501309</td>\n",
       "      <td>161.474436</td>\n",
       "      <td>164.815713</td>\n",
       "      <td>166.570707</td>\n",
       "      <td>167.143354</td>\n",
       "      <td>166.806210</td>\n",
       "      <td>161.973404</td>\n",
       "    </tr>\n",
       "    <tr>\n",
       "      <th>4</th>\n",
       "      <td>163.340182</td>\n",
       "      <td>163.790956</td>\n",
       "      <td>164.222548</td>\n",
       "      <td>161.858145</td>\n",
       "      <td>164.256042</td>\n",
       "      <td>164.808201</td>\n",
       "      <td>166.572018</td>\n",
       "      <td>159.709597</td>\n",
       "      <td>170.684536</td>\n",
       "      <td>165.906853</td>\n",
       "      <td>...</td>\n",
       "      <td>162.276859</td>\n",
       "      <td>170.274057</td>\n",
       "      <td>160.750763</td>\n",
       "      <td>167.153420</td>\n",
       "      <td>159.169127</td>\n",
       "      <td>164.596233</td>\n",
       "      <td>168.073386</td>\n",
       "      <td>168.799939</td>\n",
       "      <td>166.766123</td>\n",
       "      <td>161.527382</td>\n",
       "    </tr>\n",
       "    <tr>\n",
       "      <th>...</th>\n",
       "      <td>...</td>\n",
       "      <td>...</td>\n",
       "      <td>...</td>\n",
       "      <td>...</td>\n",
       "      <td>...</td>\n",
       "      <td>...</td>\n",
       "      <td>...</td>\n",
       "      <td>...</td>\n",
       "      <td>...</td>\n",
       "      <td>...</td>\n",
       "      <td>...</td>\n",
       "      <td>...</td>\n",
       "      <td>...</td>\n",
       "      <td>...</td>\n",
       "      <td>...</td>\n",
       "      <td>...</td>\n",
       "      <td>...</td>\n",
       "      <td>...</td>\n",
       "      <td>...</td>\n",
       "      <td>...</td>\n",
       "      <td>...</td>\n",
       "    </tr>\n",
       "    <tr>\n",
       "      <th>247</th>\n",
       "      <td>193.172348</td>\n",
       "      <td>193.424654</td>\n",
       "      <td>219.390137</td>\n",
       "      <td>155.647054</td>\n",
       "      <td>159.305323</td>\n",
       "      <td>217.765464</td>\n",
       "      <td>274.196941</td>\n",
       "      <td>161.275795</td>\n",
       "      <td>193.306450</td>\n",
       "      <td>184.123234</td>\n",
       "      <td>...</td>\n",
       "      <td>210.236186</td>\n",
       "      <td>194.906114</td>\n",
       "      <td>163.380119</td>\n",
       "      <td>240.987237</td>\n",
       "      <td>175.518729</td>\n",
       "      <td>177.897298</td>\n",
       "      <td>228.943100</td>\n",
       "      <td>194.388733</td>\n",
       "      <td>208.997195</td>\n",
       "      <td>152.731123</td>\n",
       "    </tr>\n",
       "    <tr>\n",
       "      <th>248</th>\n",
       "      <td>191.551426</td>\n",
       "      <td>195.623053</td>\n",
       "      <td>218.866190</td>\n",
       "      <td>155.234995</td>\n",
       "      <td>160.235609</td>\n",
       "      <td>219.490277</td>\n",
       "      <td>276.370413</td>\n",
       "      <td>162.616810</td>\n",
       "      <td>192.274392</td>\n",
       "      <td>181.853693</td>\n",
       "      <td>...</td>\n",
       "      <td>211.716774</td>\n",
       "      <td>194.571074</td>\n",
       "      <td>163.922523</td>\n",
       "      <td>236.098290</td>\n",
       "      <td>177.846290</td>\n",
       "      <td>178.831212</td>\n",
       "      <td>234.619730</td>\n",
       "      <td>195.027271</td>\n",
       "      <td>211.719929</td>\n",
       "      <td>153.066014</td>\n",
       "    </tr>\n",
       "    <tr>\n",
       "      <th>249</th>\n",
       "      <td>192.733445</td>\n",
       "      <td>193.415940</td>\n",
       "      <td>218.865394</td>\n",
       "      <td>155.382408</td>\n",
       "      <td>159.776153</td>\n",
       "      <td>216.038494</td>\n",
       "      <td>278.116101</td>\n",
       "      <td>160.904131</td>\n",
       "      <td>189.875021</td>\n",
       "      <td>179.380974</td>\n",
       "      <td>...</td>\n",
       "      <td>209.721096</td>\n",
       "      <td>198.454517</td>\n",
       "      <td>162.208474</td>\n",
       "      <td>235.989028</td>\n",
       "      <td>178.473096</td>\n",
       "      <td>177.202000</td>\n",
       "      <td>235.070207</td>\n",
       "      <td>196.212791</td>\n",
       "      <td>213.045445</td>\n",
       "      <td>152.623459</td>\n",
       "    </tr>\n",
       "    <tr>\n",
       "      <th>250</th>\n",
       "      <td>194.808173</td>\n",
       "      <td>191.589954</td>\n",
       "      <td>218.306284</td>\n",
       "      <td>151.742492</td>\n",
       "      <td>160.249137</td>\n",
       "      <td>210.641184</td>\n",
       "      <td>280.202014</td>\n",
       "      <td>159.250848</td>\n",
       "      <td>190.112333</td>\n",
       "      <td>176.585697</td>\n",
       "      <td>...</td>\n",
       "      <td>210.148396</td>\n",
       "      <td>196.338681</td>\n",
       "      <td>162.645148</td>\n",
       "      <td>232.453043</td>\n",
       "      <td>178.309039</td>\n",
       "      <td>179.591448</td>\n",
       "      <td>238.516958</td>\n",
       "      <td>196.138606</td>\n",
       "      <td>213.796599</td>\n",
       "      <td>150.678175</td>\n",
       "    </tr>\n",
       "    <tr>\n",
       "      <th>251</th>\n",
       "      <td>194.186309</td>\n",
       "      <td>191.409870</td>\n",
       "      <td>220.844851</td>\n",
       "      <td>152.378201</td>\n",
       "      <td>160.572396</td>\n",
       "      <td>210.769574</td>\n",
       "      <td>277.652147</td>\n",
       "      <td>161.333169</td>\n",
       "      <td>188.901951</td>\n",
       "      <td>178.524346</td>\n",
       "      <td>...</td>\n",
       "      <td>215.985318</td>\n",
       "      <td>196.021208</td>\n",
       "      <td>165.260968</td>\n",
       "      <td>232.408244</td>\n",
       "      <td>178.580012</td>\n",
       "      <td>177.731225</td>\n",
       "      <td>239.017034</td>\n",
       "      <td>198.847297</td>\n",
       "      <td>211.754798</td>\n",
       "      <td>149.850120</td>\n",
       "    </tr>\n",
       "  </tbody>\n",
       "</table>\n",
       "<p>252 rows × 1000 columns</p>\n",
       "</div>"
      ],
      "text/plain": [
       "            0           1           2           3           4           5    \\\n",
       "0    164.190002  164.190002  164.190002  164.190002  164.190002  164.190002   \n",
       "1    161.956805  162.759752  162.436103  164.830419  164.224541  164.031168   \n",
       "2    162.344877  164.982271  163.717263  165.769467  163.415510  164.002291   \n",
       "3    161.428535  165.823205  164.823640  164.566719  163.513732  163.506747   \n",
       "4    163.340182  163.790956  164.222548  161.858145  164.256042  164.808201   \n",
       "..          ...         ...         ...         ...         ...         ...   \n",
       "247  193.172348  193.424654  219.390137  155.647054  159.305323  217.765464   \n",
       "248  191.551426  195.623053  218.866190  155.234995  160.235609  219.490277   \n",
       "249  192.733445  193.415940  218.865394  155.382408  159.776153  216.038494   \n",
       "250  194.808173  191.589954  218.306284  151.742492  160.249137  210.641184   \n",
       "251  194.186309  191.409870  220.844851  152.378201  160.572396  210.769574   \n",
       "\n",
       "            6           7           8           9    ...         990  \\\n",
       "0    164.190002  164.190002  164.190002  164.190002  ...  164.190002   \n",
       "1    162.603762  161.991491  165.452929  167.380444  ...  166.120715   \n",
       "2    165.067562  161.515006  167.005576  166.128184  ...  161.531065   \n",
       "3    165.594247  161.821480  167.121362  166.757089  ...  163.695327   \n",
       "4    166.572018  159.709597  170.684536  165.906853  ...  162.276859   \n",
       "..          ...         ...         ...         ...  ...         ...   \n",
       "247  274.196941  161.275795  193.306450  184.123234  ...  210.236186   \n",
       "248  276.370413  162.616810  192.274392  181.853693  ...  211.716774   \n",
       "249  278.116101  160.904131  189.875021  179.380974  ...  209.721096   \n",
       "250  280.202014  159.250848  190.112333  176.585697  ...  210.148396   \n",
       "251  277.652147  161.333169  188.901951  178.524346  ...  215.985318   \n",
       "\n",
       "            991         992         993         994         995         996  \\\n",
       "0    164.190002  164.190002  164.190002  164.190002  164.190002  164.190002   \n",
       "1    164.502918  163.671319  165.623746  165.180832  164.587572  166.131412   \n",
       "2    168.185286  160.847941  167.231460  165.940677  162.638122  165.290541   \n",
       "3    167.839915  162.782584  168.501309  161.474436  164.815713  166.570707   \n",
       "4    170.274057  160.750763  167.153420  159.169127  164.596233  168.073386   \n",
       "..          ...         ...         ...         ...         ...         ...   \n",
       "247  194.906114  163.380119  240.987237  175.518729  177.897298  228.943100   \n",
       "248  194.571074  163.922523  236.098290  177.846290  178.831212  234.619730   \n",
       "249  198.454517  162.208474  235.989028  178.473096  177.202000  235.070207   \n",
       "250  196.338681  162.645148  232.453043  178.309039  179.591448  238.516958   \n",
       "251  196.021208  165.260968  232.408244  178.580012  177.731225  239.017034   \n",
       "\n",
       "            997         998         999  \n",
       "0    164.190002  164.190002  164.190002  \n",
       "1    163.099334  165.314533  163.182924  \n",
       "2    165.321580  167.960625  162.025240  \n",
       "3    167.143354  166.806210  161.973404  \n",
       "4    168.799939  166.766123  161.527382  \n",
       "..          ...         ...         ...  \n",
       "247  194.388733  208.997195  152.731123  \n",
       "248  195.027271  211.719929  153.066014  \n",
       "249  196.212791  213.045445  152.623459  \n",
       "250  196.138606  213.796599  150.678175  \n",
       "251  198.847297  211.754798  149.850120  \n",
       "\n",
       "[252 rows x 1000 columns]"
      ]
     },
     "execution_count": 17,
     "metadata": {},
     "output_type": "execute_result"
    }
   ],
   "source": [
    "simulate_mc(data, 252, 1000, 'log')"
   ]
  },
  {
   "cell_type": "markdown",
   "id": "7a5ddedf",
   "metadata": {
    "papermill": {
     "duration": 0.032522,
     "end_time": "2021-12-30T09:27:17.959723",
     "exception": false,
     "start_time": "2021-12-30T09:27:17.927201",
     "status": "completed"
    },
    "tags": []
   },
   "source": [
    "Now, let's loop through all the stated securities and generate the visualizations and statistics that will help us understand the expected performance of a stock."
   ]
  },
  {
   "cell_type": "code",
   "execution_count": 18,
   "id": "ef7c3a12",
   "metadata": {
    "execution": {
     "iopub.execute_input": "2021-12-30T09:27:18.039391Z",
     "iopub.status.busy": "2021-12-30T09:27:18.031526Z",
     "iopub.status.idle": "2021-12-30T09:27:18.042764Z",
     "shell.execute_reply": "2021-12-30T09:27:18.043278Z",
     "shell.execute_reply.started": "2021-12-30T09:25:17.525882Z"
    },
    "papermill": {
     "duration": 0.049923,
     "end_time": "2021-12-30T09:27:18.043479",
     "exception": false,
     "start_time": "2021-12-30T09:27:17.993556",
     "status": "completed"
    },
    "tags": []
   },
   "outputs": [],
   "source": [
    "def monte_carlo(tickers, days_forecast, iterations, start_date = '2000-1-1', return_type = 'log', plotten=False):\n",
    "    data = import_stock_data(tickers, start=start_date)\n",
    "    inform = beta_sharpe(data, mark_ticker=\"^GSPC\", start=start_date)\n",
    "    simulatedDF = []\n",
    "    for t in range(len(tickers)):\n",
    "        y = simulate_mc(data.iloc[:,t], (days_forecast+1), iterations, return_type)\n",
    "        if plotten == True:\n",
    "            forplot = y.iloc[:,0:10]\n",
    "            forplot.plot(figsize=(15,4))\n",
    "        print(f\"Beta: {round(inform.iloc[t,inform.columns.get_loc('Beta')],2)}\")\n",
    "        print(f\"Sharpe: {round(inform.iloc[t,inform.columns.get_loc('Sharpe')],2)}\") \n",
    "        print(f\"CAPM Return: {round(100*inform.iloc[t,inform.columns.get_loc('CAPM')],2)}%\")\n",
    "        y['ticker'] = tickers[t]\n",
    "        cols = y.columns.tolist()\n",
    "        cols = cols[-1:] + cols[:-1]\n",
    "        y = y[cols]\n",
    "        simulatedDF.append(y)\n",
    "    simulatedDF = pd.concat(simulatedDF)\n",
    "    return simulatedDF"
   ]
  },
  {
   "cell_type": "code",
   "execution_count": 19,
   "id": "7faccf90",
   "metadata": {
    "execution": {
     "iopub.execute_input": "2021-12-30T09:27:18.119855Z",
     "iopub.status.busy": "2021-12-30T09:27:18.119148Z",
     "iopub.status.idle": "2021-12-30T09:27:23.275792Z",
     "shell.execute_reply": "2021-12-30T09:27:23.276350Z",
     "shell.execute_reply.started": "2021-12-30T09:25:17.539780Z"
    },
    "papermill": {
     "duration": 5.199767,
     "end_time": "2021-12-30T09:27:23.276539",
     "exception": false,
     "start_time": "2021-12-30T09:27:18.076772",
     "status": "completed"
    },
    "tags": []
   },
   "outputs": [
    {
     "name": "stderr",
     "output_type": "stream",
     "text": [
      "/opt/conda/lib/python3.7/site-packages/seaborn/distributions.py:2619: FutureWarning: `distplot` is a deprecated function and will be removed in a future version. Please adapt your code to use either `displot` (a figure-level function with similar flexibility) or `histplot` (an axes-level function for histograms).\n",
      "  warnings.warn(msg, FutureWarning)\n",
      "/opt/conda/lib/python3.7/site-packages/seaborn/distributions.py:2619: FutureWarning: `distplot` is a deprecated function and will be removed in a future version. Please adapt your code to use either `displot` (a figure-level function with similar flexibility) or `histplot` (an axes-level function for histograms).\n",
      "  warnings.warn(msg, FutureWarning)\n"
     ]
    },
    {
     "data": {
      "image/png": "[encoded data removed]",
      "text/plain": [
       "<Figure size 1008x288 with 2 Axes>"
      ]
     },
     "metadata": {
      "needs_background": "light"
     },
     "output_type": "display_data"
    },
    {
     "name": "stdout",
     "output_type": "stream",
     "text": [
      "GOOG\n",
      "Days: 252\n",
      "Expected Value: #3756.25\n",
      "Return: 21.99%\n",
      "Probability of Breakeven: 0.7855\n",
      "Beta: 1.07\n",
      "Sharpe: 0.42\n",
      "CAPM Return: 13.56%\n"
     ]
    },
    {
     "name": "stderr",
     "output_type": "stream",
     "text": [
      "/opt/conda/lib/python3.7/site-packages/seaborn/distributions.py:2619: FutureWarning: `distplot` is a deprecated function and will be removed in a future version. Please adapt your code to use either `displot` (a figure-level function with similar flexibility) or `histplot` (an axes-level function for histograms).\n",
      "  warnings.warn(msg, FutureWarning)\n",
      "/opt/conda/lib/python3.7/site-packages/seaborn/distributions.py:2619: FutureWarning: `distplot` is a deprecated function and will be removed in a future version. Please adapt your code to use either `displot` (a figure-level function with similar flexibility) or `histplot` (an axes-level function for histograms).\n",
      "  warnings.warn(msg, FutureWarning)\n"
     ]
    },
    {
     "data": {
      "image/png": "[encoded data removed]",
      "text/plain": [
       "<Figure size 1008x288 with 2 Axes>"
      ]
     },
     "metadata": {
      "needs_background": "light"
     },
     "output_type": "display_data"
    },
    {
     "name": "stdout",
     "output_type": "stream",
     "text": [
      "AAPL\n",
      "Days: 252\n",
      "Expected Value: #237.49\n",
      "Return: 24.47%\n",
      "Probability of Breakeven: 0.795\n",
      "Beta: 1.18\n",
      "Sharpe: 0.42\n",
      "CAPM Return: 14.76%\n"
     ]
    }
   ],
   "source": [
    "start = \"2015-1-1\"\n",
    "days_to_forecast= 252\n",
    "simulation_trials= 10000\n",
    "ret_sim_df = monte_carlo(['GOOG','AAPL'], days_forecast= days_to_forecast, iterations=simulation_trials,  start_date=start, plotten=False)"
   ]
  },
  {
   "cell_type": "code",
   "execution_count": null,
   "id": "ea1c63ce",
   "metadata": {
    "papermill": {
     "duration": 0.036007,
     "end_time": "2021-12-30T09:27:23.349050",
     "exception": false,
     "start_time": "2021-12-30T09:27:23.313043",
     "status": "completed"
    },
    "tags": []
   },
   "outputs": [],
   "source": []
  }
 ],
 "metadata": {
  "kernelspec": {
   "display_name": "Python 3",
   "language": "python",
   "name": "python3"
  },
  "language_info": {
   "codemirror_mode": {
    "name": "ipython",
    "version": 3
   },
   "file_extension": ".py",
   "mimetype": "text/x-python",
   "name": "python",
   "nbconvert_exporter": "python",
   "pygments_lexer": "ipython3",
   "version": "3.7.12"
  },
  "papermill": {
   "default_parameters": {},
   "duration": 48.059415,
   "end_time": "2021-12-30T09:27:24.297625",
   "environment_variables": {},
   "exception": null,
   "input_path": "__notebook__.ipynb",
   "output_path": "__notebook__.ipynb",
   "parameters": {},
   "start_time": "2021-12-30T09:26:36.238210",
   "version": "2.3.3"
  }
 },
 "nbformat": 4,
 "nbformat_minor": 5
}
